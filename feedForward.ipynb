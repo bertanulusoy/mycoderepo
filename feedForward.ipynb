{
  "nbformat": 4,
  "nbformat_minor": 0,
  "metadata": {
    "colab": {
      "name": "feedForward.ipynb",
      "provenance": [],
      "collapsed_sections": [],
      "include_colab_link": true
    },
    "kernelspec": {
      "name": "python3",
      "display_name": "Python 3"
    }
  },
  "cells": [
    {
      "cell_type": "markdown",
      "metadata": {
        "id": "view-in-github",
        "colab_type": "text"
      },
      "source": [
        "<a href=\"https://colab.research.google.com/github/bertanulusoy/mycoderepo/blob/master/feedForward.ipynb\" target=\"_parent\"><img src=\"https://colab.research.google.com/assets/colab-badge.svg\" alt=\"Open In Colab\"/></a>"
      ]
    },
    {
      "cell_type": "markdown",
      "metadata": {
        "id": "WKo6D2qrXpJo",
        "colab_type": "text"
      },
      "source": [
        "## A simple neural network"
      ]
    },
    {
      "cell_type": "markdown",
      "metadata": {
        "id": "kMmiUXBCa6k6",
        "colab_type": "text"
      },
      "source": [
        "Our network accepts `input` data and `weight` variable to outputs a `prediction`. The weight variable scales the input data with a certain amount. The experience of a network changes weights for predicting more accurate."
      ]
    },
    {
      "cell_type": "code",
      "metadata": {
        "id": "Abk6eiO0AHMu",
        "colab_type": "code",
        "colab": {}
      },
      "source": [
        " weight = 0.1\n",
        "def neural_network_simple(input, weight):\n",
        "  prediction = input * weight\n",
        "  return prediction"
      ],
      "execution_count": 0,
      "outputs": []
    },
    {
      "cell_type": "code",
      "metadata": {
        "id": "f1QFBcMwAUul",
        "colab_type": "code",
        "outputId": "d8b13c5a-e474-4f74-d289-29723e3e065b",
        "colab": {
          "base_uri": "https://localhost:8080/",
          "height": 35
        }
      },
      "source": [
        "number_of_toes = [8.5, 9.5, 10, 9]\n",
        "input = number_of_toes[0]\n",
        "pred = neural_network_simple(input, weight)\n",
        "print(pred)"
      ],
      "execution_count": 0,
      "outputs": [
        {
          "output_type": "stream",
          "text": [
            "0.8500000000000001\n"
          ],
          "name": "stdout"
        }
      ]
    },
    {
      "cell_type": "markdown",
      "metadata": {
        "id": "5WjXITilIk7I",
        "colab_type": "text"
      },
      "source": [
        "### ... with multiple inputs"
      ]
    },
    {
      "cell_type": "code",
      "metadata": {
        "id": "C9T7eSGHIqPT",
        "colab_type": "code",
        "colab": {}
      },
      "source": [
        "def w_sum(a,b):\n",
        "  assert(len(a) == len(b))\n",
        "  output = 0\n",
        "  for i in range(len(a)):\n",
        "    output += (a[i] * b[i])\n",
        "  return output"
      ],
      "execution_count": 0,
      "outputs": []
    },
    {
      "cell_type": "code",
      "metadata": {
        "id": "kIILgJCoTJZ_",
        "colab_type": "code",
        "colab": {}
      },
      "source": [
        "weights = [0.1, 0.2, 0]"
      ],
      "execution_count": 0,
      "outputs": []
    },
    {
      "cell_type": "code",
      "metadata": {
        "id": "GP5aNCwSKDu2",
        "colab_type": "code",
        "colab": {}
      },
      "source": [
        "def neural_network(input, weights):\n",
        "  pred = w_sum(input, weights)\n",
        "  return pred"
      ],
      "execution_count": 0,
      "outputs": []
    },
    {
      "cell_type": "code",
      "metadata": {
        "id": "u2agSbMbTR4H",
        "colab_type": "code",
        "colab": {}
      },
      "source": [
        "toes = [8.5, 9.5, 9.9, 9.0]\n",
        "wlrec = [0.65, 0.8, 0.8, 0.9]\n",
        "nfans = [1.2, 1.3, 0.5, 1.0]"
      ],
      "execution_count": 0,
      "outputs": []
    },
    {
      "cell_type": "code",
      "metadata": {
        "id": "R0g0iiEuTh2A",
        "colab_type": "code",
        "colab": {
          "base_uri": "https://localhost:8080/",
          "height": 35
        },
        "outputId": "178d5fdb-814f-4c27-861d-ce73eadb0c27"
      },
      "source": [
        "input = [toes[0], wlrec[0], nfans[0]]\n",
        "pred = neural_network(input, weights)\n",
        "print(pred)"
      ],
      "execution_count": 5,
      "outputs": [
        {
          "output_type": "stream",
          "text": [
            "0.9800000000000001\n"
          ],
          "name": "stdout"
        }
      ]
    },
    {
      "cell_type": "code",
      "metadata": {
        "id": "kf_trcp1Txjn",
        "colab_type": "code",
        "colab": {}
      },
      "source": [
        ""
      ],
      "execution_count": 0,
      "outputs": []
    }
  ]
}